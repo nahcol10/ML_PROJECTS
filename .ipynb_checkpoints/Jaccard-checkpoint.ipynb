{
 "cells": [
  {
   "cell_type": "code",
   "execution_count": 5,
   "id": "7f66922d-eba0-453d-9087-32f15a60a6a6",
   "metadata": {},
   "outputs": [],
   "source": [
    "import numpy as np\n",
    "import pandas as pd\n",
    "from sklearn.preprocessing import LabelEncoder"
   ]
  },
  {
   "cell_type": "code",
   "execution_count": 6,
   "id": "d46dc310-26ff-4dcb-94ee-5fe834201ba7",
   "metadata": {},
   "outputs": [],
   "source": [
    "# Load dataset\n",
    "file_path = \"./abalone.csv\"\n",
    "df = pd.read_csv(file_path)"
   ]
  },
  {
   "cell_type": "code",
   "execution_count": 7,
   "id": "56ce19c0-a9a1-44d6-834c-539e2422d8c4",
   "metadata": {},
   "outputs": [],
   "source": [
    "df.columns=['Sex','Length','Diameter','Height','Whole_weight','Shucked_weight','Viscera_weigh','Shell_weight','Rings']"
   ]
  },
  {
   "cell_type": "code",
   "execution_count": 9,
   "id": "ea9c4408-eafd-4b9f-9724-87d816fb8e92",
   "metadata": {},
   "outputs": [],
   "source": [
    "# Convert 'Sex' column into numerical labels\n",
    "label_encoder = LabelEncoder()\n",
    "df['Sex'] = label_encoder.fit_transform(df['Sex']) "
   ]
  },
  {
   "cell_type": "code",
   "execution_count": 10,
   "id": "cd816f90-b351-411e-a596-50740f38de88",
   "metadata": {},
   "outputs": [],
   "source": [
    "binary_set1 = np.array([1 if df.iloc[0][\"Sex\"] == x else 0 for x in df[\"Sex\"]])\n",
    "binary_set2 = np.array([1 if df.iloc[1][\"Sex\"] == x else 0 for x in df[\"Sex\"]])"
   ]
  },
  {
   "cell_type": "code",
   "execution_count": 11,
   "id": "47817511-ad55-4ba0-bf3e-8a040fd48856",
   "metadata": {},
   "outputs": [
    {
     "name": "stdout",
     "output_type": "stream",
     "text": [
      "Jaccard Distance: 1.0\n"
     ]
    }
   ],
   "source": [
    "def jaccard_distance(set1, set2):\n",
    "    intersection = sum((set1 & set2) == 1)  # Count common 1s\n",
    "    union = sum((set1 | set2) == 1)  # Count total unique 1s\n",
    "    return 1 - (intersection / union) if union != 0 else 0  # Avoid division by zero\n",
    "jaccard_dist = jaccard_distance(binary_set1, binary_set2)\n",
    "\n",
    "print(f\"Jaccard Distance: {jaccard_dist}\")"
   ]
  },
  {
   "cell_type": "code",
   "execution_count": null,
   "id": "8a5b6ba2-9719-4c9a-b42e-25552f436bf8",
   "metadata": {},
   "outputs": [],
   "source": []
  },
  {
   "cell_type": "code",
   "execution_count": null,
   "id": "48d72407-f6a4-40ac-a7f4-795a1c1dd614",
   "metadata": {},
   "outputs": [],
   "source": []
  },
  {
   "cell_type": "code",
   "execution_count": null,
   "id": "5844a1b4-d832-4ec3-97c7-91aecc13aa96",
   "metadata": {},
   "outputs": [],
   "source": []
  }
 ],
 "metadata": {
  "kernelspec": {
   "display_name": "Python 3 (ipykernel)",
   "language": "python",
   "name": "python3"
  },
  "language_info": {
   "codemirror_mode": {
    "name": "ipython",
    "version": 3
   },
   "file_extension": ".py",
   "mimetype": "text/x-python",
   "name": "python",
   "nbconvert_exporter": "python",
   "pygments_lexer": "ipython3",
   "version": "3.12.8"
  }
 },
 "nbformat": 4,
 "nbformat_minor": 5
}
