{
 "cells": [
  {
   "cell_type": "code",
   "execution_count": 48,
   "id": "8202bd2a-969a-47da-8465-9a1ac4e0678a",
   "metadata": {},
   "outputs": [],
   "source": [
    "import pandas as pd\n",
    "import numpy as np\n",
    "from sklearn.compose import ColumnTransformer\n",
    "from sklearn.preprocessing import OneHotEncoder,LabelEncoder\n",
    "from sklearn.impute import SimpleImputer\n",
    "from sklearn.model_selection import train_test_split"
   ]
  },
  {
   "cell_type": "code",
   "execution_count": 49,
   "id": "8784f096-ee36-445c-adc8-e4cc4cb3eedd",
   "metadata": {},
   "outputs": [
    {
     "data": {
      "text/html": [
       "<div>\n",
       "<style scoped>\n",
       "    .dataframe tbody tr th:only-of-type {\n",
       "        vertical-align: middle;\n",
       "    }\n",
       "\n",
       "    .dataframe tbody tr th {\n",
       "        vertical-align: top;\n",
       "    }\n",
       "\n",
       "    .dataframe thead th {\n",
       "        text-align: right;\n",
       "    }\n",
       "</style>\n",
       "<table border=\"1\" class=\"dataframe\">\n",
       "  <thead>\n",
       "    <tr style=\"text-align: right;\">\n",
       "      <th></th>\n",
       "      <th>age</th>\n",
       "      <th>gender</th>\n",
       "      <th>fever</th>\n",
       "      <th>cough</th>\n",
       "      <th>city</th>\n",
       "      <th>has_covid</th>\n",
       "    </tr>\n",
       "  </thead>\n",
       "  <tbody>\n",
       "    <tr>\n",
       "      <th>0</th>\n",
       "      <td>60</td>\n",
       "      <td>Male</td>\n",
       "      <td>103.0</td>\n",
       "      <td>Mild</td>\n",
       "      <td>Kolkata</td>\n",
       "      <td>No</td>\n",
       "    </tr>\n",
       "    <tr>\n",
       "      <th>1</th>\n",
       "      <td>27</td>\n",
       "      <td>Male</td>\n",
       "      <td>100.0</td>\n",
       "      <td>Mild</td>\n",
       "      <td>Delhi</td>\n",
       "      <td>Yes</td>\n",
       "    </tr>\n",
       "    <tr>\n",
       "      <th>2</th>\n",
       "      <td>42</td>\n",
       "      <td>Male</td>\n",
       "      <td>101.0</td>\n",
       "      <td>Mild</td>\n",
       "      <td>Delhi</td>\n",
       "      <td>No</td>\n",
       "    </tr>\n",
       "    <tr>\n",
       "      <th>3</th>\n",
       "      <td>31</td>\n",
       "      <td>Female</td>\n",
       "      <td>98.0</td>\n",
       "      <td>Mild</td>\n",
       "      <td>Kolkata</td>\n",
       "      <td>No</td>\n",
       "    </tr>\n",
       "    <tr>\n",
       "      <th>4</th>\n",
       "      <td>65</td>\n",
       "      <td>Female</td>\n",
       "      <td>101.0</td>\n",
       "      <td>Mild</td>\n",
       "      <td>Mumbai</td>\n",
       "      <td>No</td>\n",
       "    </tr>\n",
       "  </tbody>\n",
       "</table>\n",
       "</div>"
      ],
      "text/plain": [
       "   age  gender  fever cough     city has_covid\n",
       "0   60    Male  103.0  Mild  Kolkata        No\n",
       "1   27    Male  100.0  Mild    Delhi       Yes\n",
       "2   42    Male  101.0  Mild    Delhi        No\n",
       "3   31  Female   98.0  Mild  Kolkata        No\n",
       "4   65  Female  101.0  Mild   Mumbai        No"
      ]
     },
     "execution_count": 49,
     "metadata": {},
     "output_type": "execute_result"
    }
   ],
   "source": [
    "df = pd.read_csv('./covid_toy.csv')\n",
    "df.head()"
   ]
  },
  {
   "cell_type": "code",
   "execution_count": 50,
   "id": "5c7c14d0-bc80-4157-aa0a-85d2f518f633",
   "metadata": {},
   "outputs": [
    {
     "data": {
      "text/plain": [
       "(100, 6)"
      ]
     },
     "execution_count": 50,
     "metadata": {},
     "output_type": "execute_result"
    }
   ],
   "source": [
    "df.shape"
   ]
  },
  {
   "cell_type": "code",
   "execution_count": 51,
   "id": "e11807d2-965e-4220-87a6-994ea667113c",
   "metadata": {},
   "outputs": [
    {
     "data": {
      "text/plain": [
       "age           0\n",
       "gender        0\n",
       "fever        10\n",
       "cough         0\n",
       "city          0\n",
       "has_covid     0\n",
       "dtype: int64"
      ]
     },
     "execution_count": 51,
     "metadata": {},
     "output_type": "execute_result"
    }
   ],
   "source": [
    "df.isnull().sum()"
   ]
  },
  {
   "cell_type": "code",
   "execution_count": 52,
   "id": "7921b485-0566-4b92-b470-a53b068aaf86",
   "metadata": {},
   "outputs": [],
   "source": [
    "X = df.drop(columns=\"has_covid\")\n",
    "y = df['has_covid']\n",
    "lb = LabelEncoder()\n",
    "lb.fit_transform(y)\n",
    "y = pd.DataFrame(y)"
   ]
  },
  {
   "cell_type": "code",
   "execution_count": 53,
   "id": "88cf23f4-6b46-464a-b694-41f39dbc7773",
   "metadata": {},
   "outputs": [],
   "source": [
    "X_train,X_test,y_train,y_test = train_test_split(X,y,test_size=.2,random_state=42)"
   ]
  },
  {
   "cell_type": "code",
   "execution_count": 54,
   "id": "638f4b6d-501e-4c1b-8de2-711bb2727886",
   "metadata": {},
   "outputs": [],
   "source": [
    "ct = ColumnTransformer(\n",
    "        transformers=[('gender_ohe',OneHotEncoder(),[1]),\n",
    "        ('fever_interpolation',SimpleImputer(),[2]),\n",
    "        ('city_ohe',OneHotEncoder(sparse_output=False,drop='first'),[4])\n",
    "    ],\n",
    "    remainder=\"passthrough\"\n",
    ")\n"
   ]
  },
  {
   "cell_type": "code",
   "execution_count": 56,
   "id": "bdf8c039-527e-4fdf-8922-2f6f805b160a",
   "metadata": {},
   "outputs": [
    {
     "data": {
      "text/plain": [
       "array([[1.0, 0.0, 101.0, 0.0, 0.0, 1.0, 81, 'Mild'],\n",
       "       [1.0, 0.0, 100.0, 0.0, 1.0, 0.0, 5, 'Mild'],\n",
       "       [1.0, 0.0, 100.0, 0.0, 1.0, 0.0, 19, 'Mild'],\n",
       "       [0.0, 1.0, 100.0, 1.0, 0.0, 0.0, 27, 'Mild'],\n",
       "       [1.0, 0.0, 103.0, 1.0, 0.0, 0.0, 73, 'Mild'],\n",
       "       [0.0, 1.0, 103.0, 0.0, 1.0, 0.0, 70, 'Strong'],\n",
       "       [1.0, 0.0, 102.0, 1.0, 0.0, 0.0, 49, 'Mild'],\n",
       "       [1.0, 0.0, 101.0, 0.0, 1.0, 0.0, 51, 'Strong'],\n",
       "       [1.0, 0.0, 101.0, 1.0, 0.0, 0.0, 64, 'Mild'],\n",
       "       [1.0, 0.0, 101.0, 0.0, 1.0, 0.0, 83, 'Mild'],\n",
       "       [1.0, 0.0, 98.0, 0.0, 0.0, 1.0, 65, 'Mild'],\n",
       "       [1.0, 0.0, 104.0, 0.0, 0.0, 0.0, 18, 'Mild'],\n",
       "       [1.0, 0.0, 103.0, 0.0, 0.0, 0.0, 16, 'Mild'],\n",
       "       [0.0, 1.0, 104.0, 0.0, 1.0, 0.0, 16, 'Mild'],\n",
       "       [0.0, 1.0, 100.0, 0.0, 1.0, 0.0, 27, 'Mild'],\n",
       "       [1.0, 0.0, 101.0, 0.0, 0.0, 0.0, 84, 'Mild'],\n",
       "       [0.0, 1.0, 104.0, 0.0, 1.0, 0.0, 51, 'Mild'],\n",
       "       [1.0, 0.0, 102.0, 0.0, 0.0, 0.0, 69, 'Mild'],\n",
       "       [1.0, 0.0, 102.0, 0.0, 0.0, 0.0, 82, 'Strong'],\n",
       "       [1.0, 0.0, 103.0, 0.0, 1.0, 0.0, 69, 'Mild'],\n",
       "       [0.0, 1.0, 104.0, 0.0, 0.0, 1.0, 44, 'Mild'],\n",
       "       [0.0, 1.0, 102.0, 0.0, 0.0, 1.0, 74, 'Mild'],\n",
       "       [1.0, 0.0, 101.0, 0.0, 0.0, 1.0, 20, 'Strong'],\n",
       "       [1.0, 0.0, 104.0, 0.0, 0.0, 0.0, 12, 'Mild'],\n",
       "       [1.0, 0.0, 102.0, 1.0, 0.0, 0.0, 33, 'Strong'],\n",
       "       [1.0, 0.0, 101.0, 0.0, 0.0, 0.0, 42, 'Strong'],\n",
       "       [0.0, 1.0, 99.0, 1.0, 0.0, 0.0, 65, 'Mild'],\n",
       "       [0.0, 1.0, 101.0, 0.0, 0.0, 1.0, 23, 'Mild'],\n",
       "       [1.0, 0.0, 104.0, 0.0, 0.0, 0.0, 56, 'Strong'],\n",
       "       [0.0, 1.0, 102.0, 0.0, 0.0, 0.0, 64, 'Mild'],\n",
       "       [1.0, 0.0, 100.0, 0.0, 1.0, 0.0, 13, 'Strong'],\n",
       "       [1.0, 0.0, 98.0, 0.0, 1.0, 0.0, 31, 'Mild'],\n",
       "       [1.0, 0.0, 98.0, 1.0, 0.0, 0.0, 40, 'Strong'],\n",
       "       [1.0, 0.0, 101.0, 1.0, 0.0, 0.0, 49, 'Mild'],\n",
       "       [1.0, 0.0, 100.0, 0.0, 0.0, 0.0, 19, 'Strong'],\n",
       "       [0.0, 1.0, 100.0, 0.0, 0.0, 0.0, 11, 'Mild'],\n",
       "       [0.0, 1.0, 101.0, 0.0, 0.0, 0.0, 14, 'Strong'],\n",
       "       [0.0, 1.0, 104.0, 0.0, 0.0, 1.0, 42, 'Mild'],\n",
       "       [1.0, 0.0, 101.0, 0.0, 0.0, 0.0, 38, 'Mild'],\n",
       "       [0.0, 1.0, 103.0, 0.0, 0.0, 0.0, 46, 'Strong'],\n",
       "       [0.0, 1.0, 101.0, 0.0, 1.0, 0.0, 71, 'Strong'],\n",
       "       [1.0, 0.0, 98.0, 0.0, 1.0, 0.0, 10, 'Strong'],\n",
       "       [1.0, 0.0, 99.0, 0.0, 0.0, 1.0, 60, 'Mild'],\n",
       "       [1.0, 0.0, 99.0, 0.0, 0.0, 0.0, 22, 'Mild'],\n",
       "       [0.0, 1.0, 101.0, 1.0, 0.0, 0.0, 19, 'Mild'],\n",
       "       [0.0, 1.0, 99.0, 0.0, 0.0, 0.0, 65, 'Mild'],\n",
       "       [1.0, 0.0, 101.0, 0.0, 0.0, 1.0, 19, 'Mild'],\n",
       "       [1.0, 0.0, 104.0, 0.0, 1.0, 0.0, 54, 'Strong'],\n",
       "       [1.0, 0.0, 98.0, 0.0, 0.0, 1.0, 81, 'Strong'],\n",
       "       [1.0, 0.0, 101.0, 0.0, 0.0, 0.0, 20, 'Mild'],\n",
       "       [1.0, 0.0, 103.0, 0.0, 1.0, 0.0, 48, 'Mild'],\n",
       "       [0.0, 1.0, 101.0, 0.0, 1.0, 0.0, 82, 'Mild'],\n",
       "       [0.0, 1.0, 98.0, 0.0, 0.0, 1.0, 23, 'Strong'],\n",
       "       [0.0, 1.0, 99.0, 0.0, 0.0, 0.0, 66, 'Strong'],\n",
       "       [1.0, 0.0, 98.0, 0.0, 0.0, 1.0, 5, 'Strong'],\n",
       "       [1.0, 0.0, 99.0, 0.0, 0.0, 0.0, 49, 'Strong'],\n",
       "       [0.0, 1.0, 102.0, 0.0, 1.0, 0.0, 5, 'Mild'],\n",
       "       [1.0, 0.0, 101.0, 1.0, 0.0, 0.0, 34, 'Strong'],\n",
       "       [0.0, 1.0, 101.0, 0.0, 1.0, 0.0, 79, 'Strong'],\n",
       "       [1.0, 0.0, 104.0, 0.0, 1.0, 0.0, 6, 'Mild'],\n",
       "       [0.0, 1.0, 100.0, 0.0, 0.0, 0.0, 10, 'Mild'],\n",
       "       [1.0, 0.0, 98.0, 0.0, 0.0, 1.0, 69, 'Strong'],\n",
       "       [0.0, 1.0, 100.0, 0.0, 1.0, 0.0, 55, 'Mild'],\n",
       "       [1.0, 0.0, 101.0, 0.0, 0.0, 1.0, 34, 'Strong'],\n",
       "       [0.0, 1.0, 100.0, 1.0, 0.0, 0.0, 27, 'Mild'],\n",
       "       [1.0, 0.0, 100.0, 0.0, 0.0, 0.0, 47, 'Strong'],\n",
       "       [0.0, 1.0, 98.0, 0.0, 0.0, 0.0, 73, 'Mild'],\n",
       "       [0.0, 1.0, 101.0, 1.0, 0.0, 0.0, 42, 'Mild'],\n",
       "       [1.0, 0.0, 98.0, 1.0, 0.0, 0.0, 80, 'Mild'],\n",
       "       [0.0, 1.0, 101.0, 0.0, 0.0, 0.0, 47, 'Strong'],\n",
       "       [0.0, 1.0, 101.0, 1.0, 0.0, 0.0, 38, 'Mild'],\n",
       "       [1.0, 0.0, 104.0, 1.0, 0.0, 0.0, 34, 'Strong'],\n",
       "       [0.0, 1.0, 104.0, 0.0, 0.0, 0.0, 25, 'Mild'],\n",
       "       [0.0, 1.0, 98.0, 0.0, 1.0, 0.0, 24, 'Mild'],\n",
       "       [0.0, 1.0, 98.0, 0.0, 0.0, 0.0, 12, 'Strong'],\n",
       "       [1.0, 0.0, 102.0, 0.0, 0.0, 0.0, 24, 'Strong'],\n",
       "       [1.0, 0.0, 104.0, 1.0, 0.0, 0.0, 75, 'Strong'],\n",
       "       [0.0, 1.0, 104.0, 0.0, 0.0, 0.0, 51, 'Mild'],\n",
       "       [1.0, 0.0, 102.0, 0.0, 1.0, 0.0, 82, 'Strong'],\n",
       "       [1.0, 0.0, 100.0, 0.0, 1.0, 0.0, 11, 'Strong']], dtype=object)"
      ]
     },
     "execution_count": 56,
     "metadata": {},
     "output_type": "execute_result"
    }
   ],
   "source": [
    "X_train_trans = ct.fit_transform(X_train)\n",
    "X_test_trans = ct.transform(X_test)"
   ]
  },
  {
   "cell_type": "code",
   "execution_count": null,
   "id": "9138ff7a-279a-4440-942c-81e8dc425a38",
   "metadata": {},
   "outputs": [],
   "source": []
  },
  {
   "cell_type": "code",
   "execution_count": null,
   "id": "f574ade3-566d-4a7d-83c4-0286daee739f",
   "metadata": {},
   "outputs": [],
   "source": []
  },
  {
   "cell_type": "code",
   "execution_count": null,
   "id": "c2a94026-2ec5-4401-8043-a393ee893f5d",
   "metadata": {},
   "outputs": [],
   "source": []
  }
 ],
 "metadata": {
  "kernelspec": {
   "display_name": "Python 3 (ipykernel)",
   "language": "python",
   "name": "python3"
  },
  "language_info": {
   "codemirror_mode": {
    "name": "ipython",
    "version": 3
   },
   "file_extension": ".py",
   "mimetype": "text/x-python",
   "name": "python",
   "nbconvert_exporter": "python",
   "pygments_lexer": "ipython3",
   "version": "3.12.8"
  }
 },
 "nbformat": 4,
 "nbformat_minor": 5
}
